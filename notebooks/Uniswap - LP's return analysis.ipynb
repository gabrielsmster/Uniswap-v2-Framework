{
 "cells": [
  {
   "cell_type": "markdown",
   "metadata": {},
   "source": [
    "## Libs"
   ]
  },
  {
   "cell_type": "code",
   "execution_count": null,
   "metadata": {},
   "outputs": [],
   "source": [
    "import pandas as pd\n",
    "import numpy as np\n",
    "import requests\n",
    "import time\n",
    "from datetime import datetime\n",
    "import math\n",
    "\n",
    "import matplotlib.pyplot as plt\n"
   ]
  },
  {
   "cell_type": "markdown",
   "metadata": {},
   "source": [
    "## Functions"
   ]
  },
  {
   "cell_type": "code",
   "execution_count": null,
   "metadata": {},
   "outputs": [],
   "source": [
    "def eth_price_dai(df):\n",
    "    return df['DAI_balance'] / df['ETH_balance']\n",
    "\n",
    "def uni_price_dai(df):\n",
    "    return 2 * df['DAI_balance'] / df['UNI_supply']\n",
    "\n",
    "def gain_LP(df):\n",
    "    return df['UNI_price_DAI'] / df['UNI_price_DAI'][0] - 1\n",
    "    \n",
    "def gain_ETH_hodler(df):\n",
    "    return df['ETH_price_DAI'] / df['ETH_price_DAI'][0] - 1\n",
    "\n",
    "def gain_50_50(df):\n",
    "    a = 0.5 * df['ETH_price_DAI'][0] + 0.5 * df['ETH_price_DAI']\n",
    "    a = a.values\n",
    "    return a / a[0] - 1\n",
    "\n",
    "def gain_LP_interest(df):\n",
    "    return (df['UNI_price_DAI'] + df['DAI_Interest']) / df['UNI_price_DAI'][0] - 1\n",
    "\n",
    "def gain_50_50_interest(df):\n",
    "    a = (0.5 * df['ETH_price_DAI'][0] + df['DAI_Interest']) + (0.5 * df['ETH_price_DAI'])\n",
    "    a = a.values\n",
    "    return a / a[0] - 1\n",
    "\n",
    "def calculate_dai_interest(df,rt):\n",
    "    df['DAI_Interest'] = df['ETH_price_DAI'][0] * df['total_time']*rt\n",
    "    return df\n",
    "\n",
    "def calculate_delta_time(df,df_time):\n",
    "    df = pd.concat([df,df_time],axis=1)\n",
    "    df['delta_time'] = df['block_timestamp'].diff()\n",
    "    df['delta_time'] = df['delta_time'].fillna(pd.Timedelta(seconds=0))\n",
    "    df['delta_time'] = df['delta_time'].apply(lambda x: x.total_seconds())\n",
    "    df['total_time'] = df['delta_time'].cumsum()\n",
    "    return df"
   ]
  },
  {
   "cell_type": "markdown",
   "metadata": {},
   "source": [
    "## Importing scenarios"
   ]
  },
  {
   "cell_type": "code",
   "execution_count": null,
   "metadata": {},
   "outputs": [],
   "source": [
    "model_hist_v1 = pd.read_csv('output/model_current.csv',index_col=[0]).reset_index(drop=True)\n",
    "model_hist_v2 = pd.read_csv('output/model_0-25%.csv',index_col=[0]).reset_index(drop=True)\n",
    "model_hist_v3 = pd.read_csv('output/model_0-35%.csv',index_col=[0]).reset_index(drop=True)\n",
    "\n",
    "model_fut_v1 = pd.read_csv('output/model_future_v1.csv',index_col=[0]).reset_index(drop=True)\n",
    "model_fut_v2 = pd.read_csv('output/model_future_v2.csv',index_col=[0]).reset_index(drop=True)\n",
    "model_fut_v3 = pd.read_csv('output/model_future_v3.csv',index_col=[0]).reset_index(drop=True)\n",
    "model_fut_v4 = pd.read_csv('output/model_future_v4.csv',index_col=[0]).reset_index(drop=True)\n",
    "model_fut_v5 = pd.read_csv('output/model_future_v5.csv',index_col=[0]).reset_index(drop=True)\n",
    "model_fut_v6 = pd.read_csv('output/model_future_v6.csv',index_col=[0]).reset_index(drop=True)\n",
    "model_fut_v7 = pd.read_csv('output/model_future_v7.csv',index_col=[0]).reset_index(drop=True)\n",
    "model_fut_v8 = pd.read_csv('output/model_future_v8.csv',index_col=[0]).reset_index(drop=True)\n",
    "\n",
    "# model_history.columns = ['model_DAI_balance', 'model_ETH_balance', 'model_UNI_supply']"
   ]
  },
  {
   "cell_type": "markdown",
   "metadata": {},
   "source": [
    "## Renaming Columns"
   ]
  },
  {
   "cell_type": "code",
   "execution_count": null,
   "metadata": {},
   "outputs": [],
   "source": [
    "model_hist_v1.columns = ['DAI_balance','ETH_balance','UNI_supply']\n",
    "model_hist_v2.columns = ['DAI_balance','ETH_balance','UNI_supply']\n",
    "model_hist_v3.columns = ['DAI_balance','ETH_balance','UNI_supply']\n",
    "\n",
    "model_fut_v1.columns = ['DAI_balance','ETH_balance','UNI_supply']\n",
    "model_fut_v2.columns = ['DAI_balance','ETH_balance','UNI_supply']\n",
    "model_fut_v3.columns = ['DAI_balance','ETH_balance','UNI_supply']\n",
    "model_fut_v4.columns = ['DAI_balance','ETH_balance','UNI_supply']\n",
    "model_fut_v5.columns = ['DAI_balance','ETH_balance','UNI_supply']\n",
    "model_fut_v6.columns = ['DAI_balance','ETH_balance','UNI_supply']\n",
    "model_fut_v7.columns = ['DAI_balance','ETH_balance','UNI_supply']\n",
    "model_fut_v8.columns = ['DAI_balance','ETH_balance','UNI_supply']"
   ]
  },
  {
   "cell_type": "markdown",
   "metadata": {},
   "source": [
    "## Converting to Base Numbers"
   ]
  },
  {
   "cell_type": "code",
   "execution_count": null,
   "metadata": {},
   "outputs": [],
   "source": [
    "model_hist_v1 = model_hist_v1.astype(float)\n",
    "model_hist_v2 = model_hist_v2.astype(float)\n",
    "model_hist_v3 = model_hist_v3.astype(float)\n",
    "\n",
    "model_fut_v1 = model_fut_v1.astype(float)\n",
    "model_fut_v2 = model_fut_v2.astype(float)\n",
    "model_fut_v3 = model_fut_v3.astype(float)\n",
    "model_fut_v4 = model_fut_v4.astype(float)\n",
    "model_fut_v5 = model_fut_v5.astype(float)\n",
    "model_fut_v6 = model_fut_v6.astype(float)\n",
    "model_fut_v7 = model_fut_v7.astype(float)\n",
    "model_fut_v8 = model_fut_v8.astype(float)"
   ]
  },
  {
   "cell_type": "code",
   "execution_count": null,
   "metadata": {},
   "outputs": [],
   "source": [
    "model_hist_v1 = model_hist_v1*1e-18\n",
    "model_hist_v2 = model_hist_v2*1e-18\n",
    "model_hist_v3 = model_hist_v3*1e-18\n",
    "\n",
    "model_fut_v1 = model_fut_v1*1e-18\n",
    "model_fut_v2 = model_fut_v2*1e-18\n",
    "model_fut_v3 = model_fut_v3*1e-18\n",
    "model_fut_v4 = model_fut_v4*1e-18\n",
    "model_fut_v5 = model_fut_v5*1e-18\n",
    "model_fut_v6 = model_fut_v6*1e-18\n",
    "model_fut_v7 = model_fut_v7*1e-18\n",
    "model_fut_v8 = model_fut_v8*1e-18"
   ]
  },
  {
   "cell_type": "markdown",
   "metadata": {},
   "source": [
    "## Adding Price Columns"
   ]
  },
  {
   "cell_type": "code",
   "execution_count": null,
   "metadata": {},
   "outputs": [],
   "source": [
    "model_hist_v1['ETH_price_DAI'] = eth_price_dai(model_hist_v1)\n",
    "model_hist_v1['UNI_price_DAI'] = uni_price_dai(model_hist_v1)\n",
    "\n",
    "model_hist_v2['ETH_price_DAI'] = eth_price_dai(model_hist_v2)\n",
    "model_hist_v2['UNI_price_DAI'] = uni_price_dai(model_hist_v2)\n",
    "\n",
    "model_hist_v3['ETH_price_DAI'] = eth_price_dai(model_hist_v3)\n",
    "model_hist_v3['UNI_price_DAI'] = uni_price_dai(model_hist_v3)\n",
    "\n",
    "model_fut_v1['ETH_price_DAI'] = eth_price_dai(model_fut_v1)\n",
    "model_fut_v1['UNI_price_DAI'] = uni_price_dai(model_fut_v1)\n",
    "\n",
    "model_fut_v2['ETH_price_DAI'] = eth_price_dai(model_fut_v2)\n",
    "model_fut_v2['UNI_price_DAI'] = uni_price_dai(model_fut_v2)\n",
    "\n",
    "model_fut_v3['ETH_price_DAI'] = eth_price_dai(model_fut_v3)\n",
    "model_fut_v3['UNI_price_DAI'] = uni_price_dai(model_fut_v3)\n",
    "\n",
    "model_fut_v4['ETH_price_DAI'] = eth_price_dai(model_fut_v4)\n",
    "model_fut_v4['UNI_price_DAI'] = uni_price_dai(model_fut_v4)\n",
    "\n",
    "model_fut_v5['ETH_price_DAI'] = eth_price_dai(model_fut_v5)\n",
    "model_fut_v5['UNI_price_DAI'] = uni_price_dai(model_fut_v5)\n",
    "\n",
    "model_fut_v6['ETH_price_DAI'] = eth_price_dai(model_fut_v6)\n",
    "model_fut_v6['UNI_price_DAI'] = uni_price_dai(model_fut_v6)\n",
    "\n",
    "model_fut_v7['ETH_price_DAI'] = eth_price_dai(model_fut_v7)\n",
    "model_fut_v7['UNI_price_DAI'] = uni_price_dai(model_fut_v7)\n",
    "\n",
    "model_fut_v8['ETH_price_DAI'] = eth_price_dai(model_fut_v8)\n",
    "model_fut_v8['UNI_price_DAI'] = uni_price_dai(model_fut_v8)"
   ]
  },
  {
   "cell_type": "markdown",
   "metadata": {},
   "source": [
    "## Adding Gain Columns"
   ]
  },
  {
   "cell_type": "code",
   "execution_count": null,
   "metadata": {},
   "outputs": [],
   "source": [
    "model_hist_v1['UNI_hodler_return'] = gain_LP(model_hist_v1)\n",
    "model_hist_v1['ETH_hodler_return'] = gain_ETH_hodler(model_hist_v1)\n",
    "model_hist_v1['50_50_hodler_return'] = gain_50_50(model_hist_v1)\n",
    "\n",
    "model_hist_v2['UNI_hodler_return'] = gain_LP(model_hist_v2)\n",
    "model_hist_v2['ETH_hodler_return'] = gain_ETH_hodler(model_hist_v2)\n",
    "model_hist_v2['50_50_hodler_return'] = gain_50_50(model_hist_v2)\n",
    "\n",
    "model_hist_v3['UNI_hodler_return'] = gain_LP(model_hist_v3)\n",
    "model_hist_v3['ETH_hodler_return'] = gain_ETH_hodler(model_hist_v3)\n",
    "model_hist_v3['50_50_hodler_return'] = gain_50_50(model_hist_v3)\n",
    "\n",
    "model_fut_v1['UNI_hodler_return'] = gain_LP(model_fut_v1)\n",
    "model_fut_v1['ETH_hodler_return'] = gain_ETH_hodler(model_fut_v1)\n",
    "model_fut_v1['50_50_hodler_return'] = gain_50_50(model_fut_v1)\n",
    "\n",
    "model_fut_v2['UNI_hodler_return'] = gain_LP(model_fut_v2)\n",
    "model_fut_v2['ETH_hodler_return'] = gain_ETH_hodler(model_fut_v2)\n",
    "model_fut_v2['50_50_hodler_return'] = gain_50_50(model_fut_v2)\n",
    "\n",
    "model_fut_v3['UNI_hodler_return'] = gain_LP(model_fut_v3)\n",
    "model_fut_v3['ETH_hodler_return'] = gain_ETH_hodler(model_fut_v3)\n",
    "model_fut_v3['50_50_hodler_return'] = gain_50_50(model_fut_v3)\n",
    "\n",
    "model_fut_v4['UNI_hodler_return'] = gain_LP(model_fut_v4)\n",
    "model_fut_v4['ETH_hodler_return'] = gain_ETH_hodler(model_fut_v4)\n",
    "model_fut_v4['50_50_hodler_return'] = gain_50_50(model_fut_v4)\n",
    "\n",
    "model_fut_v5['UNI_hodler_return'] = gain_LP(model_fut_v5)\n",
    "model_fut_v5['ETH_hodler_return'] = gain_ETH_hodler(model_fut_v5)\n",
    "model_fut_v5['50_50_hodler_return'] = gain_50_50(model_fut_v5)\n",
    "\n",
    "model_fut_v6['UNI_hodler_return'] = gain_LP(model_fut_v6)\n",
    "model_fut_v6['ETH_hodler_return'] = gain_ETH_hodler(model_fut_v6)\n",
    "model_fut_v6['50_50_hodler_return'] = gain_50_50(model_fut_v6)\n",
    "\n",
    "model_fut_v7['UNI_hodler_return'] = gain_LP(model_fut_v7)\n",
    "model_fut_v7['ETH_hodler_return'] = gain_ETH_hodler(model_fut_v7)\n",
    "model_fut_v7['50_50_hodler_return'] = gain_50_50(model_fut_v7)\n",
    "\n",
    "model_fut_v8['UNI_hodler_return'] = gain_LP(model_fut_v8)\n",
    "model_fut_v8['ETH_hodler_return'] = gain_ETH_hodler(model_fut_v8)\n",
    "model_fut_v8['50_50_hodler_return'] = gain_50_50(model_fut_v8)"
   ]
  },
  {
   "cell_type": "markdown",
   "metadata": {},
   "source": [
    "## Adding Date Column"
   ]
  },
  {
   "cell_type": "code",
   "execution_count": null,
   "metadata": {},
   "outputs": [],
   "source": [
    "uniswap_events = pd.read_pickle('model/parts/uniswap_events.pickle')\n",
    "uniswap_events = uniswap_events.loc[2:,:][['block_timestamp']].reset_index(drop=True)"
   ]
  },
  {
   "cell_type": "code",
   "execution_count": null,
   "metadata": {},
   "outputs": [],
   "source": [
    "model_hist_v1 = calculate_delta_time(model_hist_v1,uniswap_events)\n",
    "model_hist_v2 = calculate_delta_time(model_hist_v2,uniswap_events)\n",
    "model_hist_v3 = calculate_delta_time(model_hist_v3,uniswap_events)"
   ]
  },
  {
   "cell_type": "code",
   "execution_count": null,
   "metadata": {},
   "outputs": [],
   "source": [
    "model_fut_v1['delta_time'] = 16.404\n",
    "model_fut_v2['delta_time'] = 16.404\n",
    "model_fut_v3['delta_time'] = 16.404\n",
    "model_fut_v4['delta_time'] = 16.404\n",
    "model_fut_v5['delta_time'] = 16.404\n",
    "model_fut_v6['delta_time'] = 16.404\n",
    "model_fut_v7['delta_time'] = 16.404\n",
    "model_fut_v8['delta_time'] = 16.404\n",
    "\n",
    "model_fut_v1['total_time'] = model_fut_v1['delta_time'].cumsum()\n",
    "model_fut_v2['total_time'] = model_fut_v2['delta_time'].cumsum()\n",
    "model_fut_v3['total_time'] = model_fut_v3['delta_time'].cumsum()\n",
    "model_fut_v4['total_time'] = model_fut_v4['delta_time'].cumsum()\n",
    "model_fut_v5['total_time'] = model_fut_v5['delta_time'].cumsum()\n",
    "model_fut_v6['total_time'] = model_fut_v6['delta_time'].cumsum()\n",
    "model_fut_v7['total_time'] = model_fut_v7['delta_time'].cumsum()\n",
    "model_fut_v8['total_time'] = model_fut_v8['delta_time'].cumsum()"
   ]
  },
  {
   "cell_type": "markdown",
   "metadata": {},
   "source": [
    "## Adding Interest Bearing Columns"
   ]
  },
  {
   "cell_type": "code",
   "execution_count": null,
   "metadata": {},
   "outputs": [],
   "source": [
    "# https://defirate.com/dai/\n",
    "rt_dai_year = 4.78*1e-2\n",
    "rt_dai_second = rt_dai_year/(365*24*60*60)"
   ]
  },
  {
   "cell_type": "code",
   "execution_count": null,
   "metadata": {},
   "outputs": [],
   "source": [
    "model_hist_v1 = calculate_dai_interest(model_hist_v1,rt_dai_second)\n",
    "model_hist_v2 = calculate_dai_interest(model_hist_v2,rt_dai_second)\n",
    "model_hist_v3 = calculate_dai_interest(model_hist_v3,rt_dai_second)\n",
    "\n",
    "model_fut_v1 = calculate_dai_interest(model_fut_v1,rt_dai_second)\n",
    "model_fut_v2 = calculate_dai_interest(model_fut_v2,rt_dai_second)\n",
    "model_fut_v3 = calculate_dai_interest(model_fut_v3,rt_dai_second)\n",
    "model_fut_v4 = calculate_dai_interest(model_fut_v4,rt_dai_second)\n",
    "model_fut_v5 = calculate_dai_interest(model_fut_v5,rt_dai_second)\n",
    "model_fut_v6 = calculate_dai_interest(model_fut_v6,rt_dai_second)\n",
    "model_fut_v7 = calculate_dai_interest(model_fut_v7,rt_dai_second)\n",
    "model_fut_v8 = calculate_dai_interest(model_fut_v8,rt_dai_second)"
   ]
  },
  {
   "cell_type": "markdown",
   "metadata": {},
   "source": [
    "## Adding Gain with interest columns"
   ]
  },
  {
   "cell_type": "code",
   "execution_count": null,
   "metadata": {},
   "outputs": [],
   "source": [
    "model_hist_v1['UNI_hodler_return_interest'] = gain_LP_interest(model_hist_v1)\n",
    "model_hist_v1['50_50_hodler_return_interest'] = gain_50_50_interest(model_hist_v1)\n",
    "\n",
    "model_hist_v2['UNI_hodler_return_interest'] = gain_LP_interest(model_hist_v2)\n",
    "model_hist_v2['50_50_hodler_return_interest'] = gain_50_50_interest(model_hist_v2)\n",
    "\n",
    "model_hist_v3['UNI_hodler_return_interest'] = gain_LP_interest(model_hist_v3)\n",
    "model_hist_v3['50_50_hodler_return_interest'] = gain_50_50_interest(model_hist_v3)\n",
    "\n",
    "model_fut_v1['UNI_hodler_return_interest'] = gain_LP_interest(model_fut_v1)\n",
    "model_fut_v1['50_50_hodler_return_interest'] = gain_50_50_interest(model_fut_v1)\n",
    "\n",
    "model_fut_v2['UNI_hodler_return_interest'] = gain_LP_interest(model_fut_v2)\n",
    "model_fut_v2['50_50_hodler_return_interest'] = gain_50_50_interest(model_fut_v2)\n",
    "\n",
    "model_fut_v3['UNI_hodler_return_interest'] = gain_LP_interest(model_fut_v3)\n",
    "model_fut_v3['50_50_hodler_return_interest'] = gain_50_50_interest(model_fut_v3)\n",
    "\n",
    "model_fut_v4['UNI_hodler_return_interest'] = gain_LP_interest(model_fut_v4)\n",
    "model_fut_v4['50_50_hodler_return_interest'] = gain_50_50_interest(model_fut_v4)\n",
    "\n",
    "model_fut_v5['UNI_hodler_return_interest'] = gain_LP_interest(model_fut_v5)\n",
    "model_fut_v5['50_50_hodler_return_interest'] = gain_50_50_interest(model_fut_v5)\n",
    "\n",
    "model_fut_v6['UNI_hodler_return_interest'] = gain_LP_interest(model_fut_v6)\n",
    "model_fut_v6['50_50_hodler_return_interest'] = gain_50_50_interest(model_fut_v6)\n",
    "\n",
    "model_fut_v7['UNI_hodler_return_interest'] = gain_LP_interest(model_fut_v7)\n",
    "model_fut_v7['50_50_hodler_return_interest'] = gain_50_50_interest(model_fut_v7)\n",
    "\n",
    "model_fut_v8['UNI_hodler_return_interest'] = gain_LP_interest(model_fut_v8)\n",
    "model_fut_v8['50_50_hodler_return_interest'] = gain_50_50_interest(model_fut_v8)\n"
   ]
  },
  {
   "cell_type": "markdown",
   "metadata": {},
   "source": [
    "## Generating return Graphs"
   ]
  },
  {
   "cell_type": "code",
   "execution_count": null,
   "metadata": {},
   "outputs": [],
   "source": [
    "df_list = [model_hist_v1,model_hist_v2,model_hist_v3,model_fut_v1,model_fut_v2,model_fut_v3,model_fut_v4,model_fut_v5,model_fut_v6,model_fut_v7,model_fut_v8]"
   ]
  },
  {
   "cell_type": "code",
   "execution_count": null,
   "metadata": {
    "scrolled": true
   },
   "outputs": [],
   "source": [
    "for df in df_list:\n",
    "    plt.figure(figsize=(15,5))\n",
    "    ax = plt.subplot(121)\n",
    "    ax.set_ylabel('ROI')\n",
    "    df[['UNI_hodler_return','50_50_hodler_return','ETH_hodler_return']].plot(ax=ax)\n",
    "    ax = plt.subplot(122)\n",
    "    ax.set_ylabel('ROI')\n",
    "    df[['UNI_hodler_return','UNI_hodler_return_interest']].plot(ax=ax)\n",
    "    \n",
    "    plt.figure(figsize=(15,5))\n",
    "    ax = plt.subplot(121)\n",
    "    ax.set_ylabel('ROI')\n",
    "    df[['50_50_hodler_return','50_50_hodler_return_interest']].plot(ax=ax)\n",
    "    ax = plt.subplot(122)\n",
    "    ax.set_ylabel('ROI')\n",
    "    df[['UNI_hodler_return_interest','50_50_hodler_return_interest','ETH_hodler_return']].plot(ax=ax)"
   ]
  },
  {
   "cell_type": "markdown",
   "metadata": {},
   "source": [
    "## Generating Historical Comparisons"
   ]
  },
  {
   "cell_type": "code",
   "execution_count": null,
   "metadata": {},
   "outputs": [],
   "source": [
    "df_h1 = model_hist_v1[['DAI_balance','ETH_balance','UNI_supply','UNI_hodler_return','UNI_hodler_return_interest']]\n",
    "df_h2 = model_hist_v2[['DAI_balance','ETH_balance','UNI_supply','UNI_hodler_return','UNI_hodler_return_interest']]\n",
    "df_h3 = model_hist_v3[['DAI_balance','ETH_balance','UNI_supply','UNI_hodler_return','UNI_hodler_return_interest']]\n",
    "\n",
    "df_h1.columns = ['DAI_balance_0.30','ETH_balance_0.30','UNI_supply_0.30','UNI_hodler_return_0.30','UNI_hodler_return_interest_0.30']\n",
    "df_h2.columns = ['DAI_balance_0.25','ETH_balance_0.25','UNI_supply_0.25','UNI_hodler_return_0.25','UNI_hodler_return_interest_0.25']\n",
    "df_h3.columns = ['DAI_balance_0.35','ETH_balance_0.35','UNI_supply_0.35','UNI_hodler_return_0.35','UNI_hodler_return_interest_0.35']\n",
    "\n",
    "df_hist_compare = pd.concat([df_h1,df_h2],axis=1)\n",
    "df_hist_compare = pd.concat([df_hist_compare,df_h3],axis=1)"
   ]
  },
  {
   "cell_type": "code",
   "execution_count": null,
   "metadata": {},
   "outputs": [],
   "source": [
    "df_hist_compare.head()"
   ]
  },
  {
   "cell_type": "code",
   "execution_count": null,
   "metadata": {
    "scrolled": true
   },
   "outputs": [],
   "source": [
    "plt.figure(figsize=(15,5))\n",
    "ax = plt.subplot(111)\n",
    "ax.set_title('DAI Liquidity')\n",
    "ax.set_ylabel('DAI Amount')\n",
    "df_hist_compare[['DAI_balance_0.30','DAI_balance_0.25','DAI_balance_0.35']].plot(ax=ax)\n",
    "\n",
    "plt.figure(figsize=(15,5))\n",
    "ax = plt.subplot(111)\n",
    "ax.set_title('ETH Liquidity')\n",
    "ax.set_ylabel('ETH Amount')\n",
    "df_hist_compare[['ETH_balance_0.30','ETH_balance_0.25','ETH_balance_0.35']].plot(ax=ax)\n",
    "\n",
    "plt.figure(figsize=(15,5))\n",
    "ax = plt.subplot(111)\n",
    "ax.set_title('UNI Supply')\n",
    "ax.set_ylabel('UNI Amount')\n",
    "df_hist_compare[['UNI_supply_0.30','UNI_supply_0.25','UNI_supply_0.35']].plot(ax=ax)"
   ]
  },
  {
   "cell_type": "code",
   "execution_count": null,
   "metadata": {},
   "outputs": [],
   "source": [
    "plt.figure(figsize=(15,8))\n",
    "ax = plt.subplot(111)\n",
    "ax.set_title('LP return')\n",
    "df_hist_compare[['UNI_hodler_return_0.30','UNI_hodler_return_0.25','UNI_hodler_return_0.35']].plot(ax=ax)\n"
   ]
  },
  {
   "cell_type": "code",
   "execution_count": null,
   "metadata": {},
   "outputs": [],
   "source": [
    "plt.figure(figsize=(15,8))\n",
    "ax = plt.subplot(111)\n",
    "ax.set_title('LP return')\n",
    "df_hist_compare[['UNI_hodler_return_interest_0.30','UNI_hodler_return_interest_0.25','UNI_hodler_return_0.35']].plot(ax=ax)\n"
   ]
  }
 ],
 "metadata": {
  "kernelspec": {
   "display_name": "Python 3",
   "language": "python",
   "name": "python3"
  },
  "language_info": {
   "codemirror_mode": {
    "name": "ipython",
    "version": 3
   },
   "file_extension": ".py",
   "mimetype": "text/x-python",
   "name": "python",
   "nbconvert_exporter": "python",
   "pygments_lexer": "ipython3",
   "version": "3.8.5"
  }
 },
 "nbformat": 4,
 "nbformat_minor": 4
}
