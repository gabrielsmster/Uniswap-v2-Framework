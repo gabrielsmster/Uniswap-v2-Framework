{
 "cells": [
  {
   "cell_type": "markdown",
   "metadata": {},
   "source": [
    "## Libs"
   ]
  },
  {
   "cell_type": "code",
   "execution_count": null,
   "metadata": {},
   "outputs": [],
   "source": [
    "import pandas as pd\n",
    "import numpy as np\n",
    "import requests\n",
    "import time\n",
    "from datetime import datetime\n",
    "import math\n"
   ]
  },
  {
   "cell_type": "code",
   "execution_count": null,
   "metadata": {},
   "outputs": [],
   "source": [
    "df_ETHDAI_cad = pd.read_pickle('model/parts/uniswap_events.pickle')"
   ]
  },
  {
   "cell_type": "markdown",
   "metadata": {},
   "source": [
    "## Last 45 days"
   ]
  },
  {
   "cell_type": "code",
   "execution_count": null,
   "metadata": {},
   "outputs": [],
   "source": [
    "date_ini = '2020-12-15 00:00:00'\n",
    "\n",
    "df_ETHDAI_recent = df_ETHDAI_cad[df_ETHDAI_cad['block_timestamp']>=date_ini]"
   ]
  },
  {
   "cell_type": "markdown",
   "metadata": {},
   "source": [
    "## Market trades count"
   ]
  },
  {
   "cell_type": "code",
   "execution_count": null,
   "metadata": {},
   "outputs": [],
   "source": [
    "df_ETHDAI_counter = df_ETHDAI_recent[['event','eth_delta','token_delta', 'uni_delta']].groupby(['event']).count()\n",
    "df_ETHDAI_counter.head()"
   ]
  },
  {
   "cell_type": "markdown",
   "metadata": {},
   "source": [
    "## Market total volume"
   ]
  },
  {
   "cell_type": "code",
   "execution_count": null,
   "metadata": {},
   "outputs": [],
   "source": [
    "df_ETHDAI_volume = df_ETHDAI_recent[['event','eth_delta','token_delta', 'uni_delta']].groupby(['event']).sum()\n",
    "df_ETHDAI_volume.head()"
   ]
  },
  {
   "cell_type": "markdown",
   "metadata": {},
   "source": [
    "## Market volume by trade"
   ]
  },
  {
   "cell_type": "code",
   "execution_count": null,
   "metadata": {},
   "outputs": [],
   "source": [
    "df_ETHDAI_avg = df_ETHDAI_volume / df_ETHDAI_counter\n",
    "df_ETHDAI_avg['eth_delta'] = df_ETHDAI_avg['eth_delta'].apply(lambda x: int(x))\n",
    "df_ETHDAI_avg['token_delta'] = df_ETHDAI_avg['token_delta'].apply(lambda x: int(x))\n",
    "df_ETHDAI_avg['uni_delta'] = df_ETHDAI_avg['uni_delta'].apply(lambda x: int(x))\n",
    "df_ETHDAI_avg.head()"
   ]
  },
  {
   "cell_type": "markdown",
   "metadata": {},
   "source": [
    "## Market trades by day"
   ]
  },
  {
   "cell_type": "code",
   "execution_count": null,
   "metadata": {},
   "outputs": [],
   "source": [
    "df_ETHDAI_trade_by_day = df_ETHDAI_counter / 45\n",
    "df_ETHDAI_trade_by_day['eth_delta'] = df_ETHDAI_trade_by_day['eth_delta'].apply(lambda x: int(x))\n",
    "df_ETHDAI_trade_by_day['token_delta'] = df_ETHDAI_trade_by_day['token_delta'].apply(lambda x: int(x))\n",
    "df_ETHDAI_trade_by_day['uni_delta'] = df_ETHDAI_trade_by_day['uni_delta'].apply(lambda x: int(x))\n",
    "df_ETHDAI_trade_by_day.head()"
   ]
  },
  {
   "cell_type": "code",
   "execution_count": null,
   "metadata": {},
   "outputs": [],
   "source": [
    "print('-- Eth Purchase --')\n",
    "print('---')\n",
    "print(' Eth Delta ')\n",
    "print(int(df_ETHDAI_recent[df_ETHDAI_recent['event']=='EthPurchase']['eth_delta'].mean()))\n",
    "print(int(df_ETHDAI_recent[df_ETHDAI_recent['event']=='EthPurchase']['eth_delta'].std()))\n",
    "print(' Dai Delta')\n",
    "print(int(df_ETHDAI_recent[df_ETHDAI_recent['event']=='EthPurchase']['token_delta'].mean()))\n",
    "print(int(df_ETHDAI_recent[df_ETHDAI_recent['event']=='EthPurchase']['token_delta'].std()))\n",
    "print('-------------------')\n",
    "print('-- Dai Purchase --')\n",
    "print('---')\n",
    "print(' Eth Delta ')\n",
    "print(int(df_ETHDAI_recent[df_ETHDAI_recent['event']=='TokenPurchase']['eth_delta'].mean()))\n",
    "print(int(df_ETHDAI_recent[df_ETHDAI_recent['event']=='TokenPurchase']['eth_delta'].std()))\n",
    "print(' Dai Delta')\n",
    "print(int(df_ETHDAI_recent[df_ETHDAI_recent['event']=='TokenPurchase']['token_delta'].mean()))\n",
    "print(int(df_ETHDAI_recent[df_ETHDAI_recent['event']=='TokenPurchase']['token_delta'].std()))"
   ]
  }
 ],
 "metadata": {
  "kernelspec": {
   "display_name": "Python 3",
   "language": "python",
   "name": "python3"
  },
  "language_info": {
   "codemirror_mode": {
    "name": "ipython",
    "version": 3
   },
   "file_extension": ".py",
   "mimetype": "text/x-python",
   "name": "python",
   "nbconvert_exporter": "python",
   "pygments_lexer": "ipython3",
   "version": "3.8.5"
  }
 },
 "nbformat": 4,
 "nbformat_minor": 4
}
