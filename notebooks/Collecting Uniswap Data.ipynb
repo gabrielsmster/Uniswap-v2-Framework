{
 "cells": [
  {
   "cell_type": "markdown",
   "metadata": {},
   "source": [
    "## Libs"
   ]
  },
  {
   "cell_type": "code",
   "execution_count": null,
   "metadata": {},
   "outputs": [],
   "source": [
    "import pandas as pd\n",
    "import numpy as np\n",
    "import requests\n",
    "import time\n",
    "from datetime import datetime\n",
    "import math\n",
    "\n",
    "from gql import gql, Client\n",
    "from gql.transport.requests import RequestsHTTPTransport\n"
   ]
  },
  {
   "cell_type": "markdown",
   "metadata": {},
   "source": [
    "## Functions"
   ]
  },
  {
   "cell_type": "code",
   "execution_count": null,
   "metadata": {},
   "outputs": [],
   "source": [
    "## SWAPS\n",
    "\n",
    "def swap_hist(timestamp_max):\n",
    "    sample_transport=RequestsHTTPTransport(\n",
    "       url='https://api.thegraph.com/subgraphs/name/uniswap/uniswap-v2',\n",
    "       verify=True,\n",
    "       retries=10,\n",
    "    )\n",
    "    client = Client(\n",
    "       transport=sample_transport\n",
    "    )\n",
    "    query = gql('''\n",
    "    query {\n",
    "    swaps(orderBy: timestamp, orderDirection: desc, where:\n",
    "     { pair: \"0xa478c2975ab1ea89e8196811f51a7b7ade33eb11\",\n",
    "       timestamp_lte: ''' + timestamp_max + '''}\n",
    "    ) {\n",
    "\n",
    "        id\n",
    "        logIndex\n",
    "        transaction\n",
    "        pair {\n",
    "           token0 {\n",
    "             symbol\n",
    "           }\n",
    "           token1 {\n",
    "             symbol\n",
    "           }\n",
    "         }\n",
    "         amount0In\n",
    "         amount0Out\n",
    "         amount1In\n",
    "         amount1Out\n",
    "         amountUSD\n",
    "         to\n",
    "         timestamp\n",
    "\n",
    "     }\n",
    "    }\n",
    "    ''')\n",
    "    return client.execute(query)['swaps']\n",
    "\n",
    "\n",
    "## MINT\n",
    "\n",
    "def mint_hist(timestamp_max):\n",
    "    sample_transport=RequestsHTTPTransport(\n",
    "       url='https://api.thegraph.com/subgraphs/name/uniswap/uniswap-v2',\n",
    "       verify=True,\n",
    "       retries=10,\n",
    "    )\n",
    "    client = Client(\n",
    "       transport=sample_transport\n",
    "    )\n",
    "    query = gql('''\n",
    "    query {\n",
    "    mints(orderBy: timestamp, orderDirection: desc, where:\n",
    "     { pair: \"0xa478c2975ab1ea89e8196811f51a7b7ade33eb11\",\n",
    "       timestamp_lte: ''' + timestamp_max + '''}\n",
    "    ) {\n",
    "\n",
    "        id\n",
    "        logIndex\n",
    "        transaction\n",
    "        timestamp\n",
    "        pair {\n",
    "           token0 {\n",
    "             symbol\n",
    "           }\n",
    "           token1 {\n",
    "             symbol\n",
    "           }\n",
    "         }\n",
    "        to\n",
    "        liquidity\n",
    "        sender\n",
    "        amount0\n",
    "        amount1\n",
    "        amountUSD\n",
    "        feeTo\n",
    "        feeLiquidity\n",
    "\n",
    "\n",
    "     }\n",
    "    }\n",
    "    ''')\n",
    "    return client.execute(query)['mints']\n",
    "    \n",
    "    \n",
    "## BURN\n",
    "\n",
    "def burn_hist(timestamp_max):\n",
    "    sample_transport=RequestsHTTPTransport(\n",
    "       url='https://api.thegraph.com/subgraphs/name/uniswap/uniswap-v2',\n",
    "       verify=True,\n",
    "       retries=10,\n",
    "    )\n",
    "    client = Client(\n",
    "       transport=sample_transport\n",
    "    )\n",
    "    query = gql('''\n",
    "    query {\n",
    "    burns(orderBy: timestamp, orderDirection: desc, where:\n",
    "     { pair: \"0xa478c2975ab1ea89e8196811f51a7b7ade33eb11\",\n",
    "       timestamp_lte: ''' + timestamp_max + '''}\n",
    "    ) {\n",
    "\n",
    "        id\n",
    "        logIndex\n",
    "        transaction\n",
    "        timestamp\n",
    "        pair {\n",
    "           token0 {\n",
    "             symbol\n",
    "           }\n",
    "           token1 {\n",
    "             symbol\n",
    "           }\n",
    "         }\n",
    "        to\n",
    "        liquidity\n",
    "        sender\n",
    "        amount0\n",
    "        amount1\n",
    "        amountUSD\n",
    "        feeTo\n",
    "        feeLiquidity\n",
    "\n",
    "\n",
    "\n",
    "     }\n",
    "    }\n",
    "    ''')\n",
    "    return client.execute(query)['burns']\n",
    "    \n",
    "    \n",
    "## PAIR\n",
    "\n",
    "def pair_hist(timestamp_max):\n",
    "    sample_transport=RequestsHTTPTransport(\n",
    "       url='https://api.thegraph.com/subgraphs/name/uniswap/uniswap-v2',\n",
    "       verify=True,\n",
    "       retries=10,\n",
    "    )\n",
    "    client = Client(\n",
    "       transport=sample_transport\n",
    "    )\n",
    "    query = gql('''\n",
    "    query {\n",
    "    pair(where:\n",
    "     { pair: \"0xa478c2975ab1ea89e8196811f51a7b7ade33eb11\",\n",
    "       timestamp: ''' + timestamp_max + '''}\n",
    "    ) {\n",
    "\n",
    "        id\n",
    "        transaction\n",
    "        timestamp\n",
    "        pair {\n",
    "           token0 {\n",
    "             symbol\n",
    "           }\n",
    "           token1 {\n",
    "             symbol\n",
    "           }\n",
    "         }\n",
    "        to\n",
    "        liquidity\n",
    "        sender\n",
    "        amount0\n",
    "        amount1\n",
    "        amountUSD\n",
    "        feeTo\n",
    "        feeLiquidity\n",
    "\n",
    "\n",
    "     }\n",
    "    }\n",
    "    ''')\n",
    "    return client.execute(query)['burns']"
   ]
  },
  {
   "cell_type": "code",
   "execution_count": null,
   "metadata": {},
   "outputs": [],
   "source": [
    "def treat_dict_pair0(pair):\n",
    "\n",
    "    return pair['token0']['symbol']\n",
    "\n",
    "def treat_dict_pair1(pair):\n",
    "    \n",
    "    return pair['token1']['symbol']"
   ]
  },
  {
   "cell_type": "code",
   "execution_count": null,
   "metadata": {},
   "outputs": [],
   "source": [
    "timestamp_initial = \"1612000000\"\n",
    "timestamp_final = \"1400000000\"\n"
   ]
  },
  {
   "cell_type": "markdown",
   "metadata": {},
   "source": [
    "## Swap historical data"
   ]
  },
  {
   "cell_type": "code",
   "execution_count": null,
   "metadata": {
    "scrolled": true
   },
   "outputs": [],
   "source": [
    "swap_list = []\n",
    "\n",
    "timestamp_actual = timestamp_initial\n",
    "int_timestamp = int(timestamp_actual)\n",
    "\n",
    "while int_timestamp > int(timestamp_final):\n",
    "    \n",
    "    list_aux = swap_hist(timestamp_actual)\n",
    "    if list_aux == []:\n",
    "        break\n",
    "    else:\n",
    "        for item in list_aux:\n",
    "            swap_list.append(item)\n",
    "\n",
    "        if timestamp_actual == swap_list[-1]['timestamp']:\n",
    "            break\n",
    "        else:\n",
    "            timestamp_actual = swap_list[-1]['timestamp']\n",
    "            int_timestamp = int(timestamp_actual)\n",
    "\n"
   ]
  },
  {
   "cell_type": "code",
   "execution_count": null,
   "metadata": {},
   "outputs": [],
   "source": [
    "df_swap = pd.DataFrame(swap_list)\n",
    "\n",
    "df_swap['token0'] = df_swap['pair'].apply(lambda x: treat_dict_pair0(x))\n",
    "df_swap['token1'] = df_swap['pair'].apply(lambda x: treat_dict_pair1(x))\n",
    "\n",
    "df_swap = df_swap[['amount0In', 'amount0Out', 'amount1In', 'amount1Out', 'amountUSD', 'id', 'logIndex',\n",
    "       'timestamp', 'to', 'token0', 'token1']].drop_duplicates()"
   ]
  },
  {
   "cell_type": "markdown",
   "metadata": {},
   "source": [
    "## Mint historical data"
   ]
  },
  {
   "cell_type": "code",
   "execution_count": null,
   "metadata": {},
   "outputs": [],
   "source": [
    "mint_list = []\n",
    "\n",
    "timestamp_actual = timestamp_initial\n",
    "int_timestamp = int(timestamp_actual)\n",
    "while int_timestamp > int(timestamp_final):\n",
    "    \n",
    "    list_aux = mint_hist(timestamp_actual)\n",
    "    if list_aux == []:\n",
    "        break\n",
    "    else:\n",
    "        for item in list_aux:\n",
    "            mint_list.append(item)\n",
    "\n",
    "        if timestamp_actual == mint_list[-1]['timestamp']:\n",
    "            break\n",
    "        else:\n",
    "            timestamp_actual = mint_list[-1]['timestamp']\n",
    "            int_timestamp = int(timestamp_actual)\n"
   ]
  },
  {
   "cell_type": "code",
   "execution_count": null,
   "metadata": {},
   "outputs": [],
   "source": [
    "df_mint = pd.DataFrame(mint_list)\n",
    "\n",
    "df_mint['token0'] = df_mint['pair'].apply(lambda x: treat_dict_pair0(x))\n",
    "df_mint['token1'] = df_mint['pair'].apply(lambda x: treat_dict_pair1(x))\n",
    "\n",
    "df_mint = df_mint[['amount0', 'amount1', 'amountUSD', 'feeLiquidity', 'feeTo', 'id', 'logIndex',\n",
    "       'liquidity', 'sender', 'timestamp', 'to',\n",
    "       'token0', 'token1']].drop_duplicates()"
   ]
  },
  {
   "cell_type": "markdown",
   "metadata": {},
   "source": [
    "## Burn historical data"
   ]
  },
  {
   "cell_type": "code",
   "execution_count": null,
   "metadata": {},
   "outputs": [],
   "source": [
    "burn_list = []\n",
    "\n",
    "timestamp_actual = timestamp_initial\n",
    "int_timestamp = int(timestamp_actual)\n",
    "while int_timestamp > int(timestamp_final):\n",
    "    \n",
    "    list_aux = burn_hist(timestamp_actual)\n",
    "    if list_aux == []:\n",
    "        break\n",
    "    else:\n",
    "        for item in list_aux:\n",
    "            burn_list.append(item)\n",
    "        \n",
    "        if timestamp_actual == burn_list[-1]['timestamp']:\n",
    "            break\n",
    "        else:\n",
    "            timestamp_actual = burn_list[-1]['timestamp']\n",
    "            int_timestamp = int(timestamp_actual)\n"
   ]
  },
  {
   "cell_type": "code",
   "execution_count": null,
   "metadata": {},
   "outputs": [],
   "source": [
    "df_burn = pd.DataFrame(burn_list)\n",
    "\n",
    "df_burn['token0'] = df_burn['pair'].apply(lambda x: treat_dict_pair0(x))\n",
    "df_burn['token1'] = df_burn['pair'].apply(lambda x: treat_dict_pair1(x))\n",
    "\n",
    "df_burn = df_burn[['amount0', 'amount1', 'amountUSD', 'feeLiquidity', 'feeTo', 'id', 'logIndex',\n",
    "       'liquidity', 'sender', 'timestamp', 'to',\n",
    "       'token0', 'token1']].drop_duplicates()"
   ]
  },
  {
   "cell_type": "markdown",
   "metadata": {},
   "source": [
    "## Saving historical data"
   ]
  },
  {
   "cell_type": "code",
   "execution_count": null,
   "metadata": {
    "scrolled": true
   },
   "outputs": [],
   "source": [
    "df_burn.to_csv('burn_historical_data.csv')\n",
    "df_mint.to_csv('mint_historical_data.csv')\n",
    "df_swap.to_csv('swap_historical_data.csv')"
   ]
  },
  {
   "cell_type": "markdown",
   "metadata": {},
   "source": [
    "## Treating data to run cadCAD model"
   ]
  },
  {
   "cell_type": "code",
   "execution_count": null,
   "metadata": {},
   "outputs": [],
   "source": [
    "df_swap_uniq = df_swap.copy()\n",
    "df_swap_uniq['amount0In'] = df_swap_uniq['amount0In'].astype(float)\n",
    "df_swap_uniq['amount0Out'] = df_swap_uniq['amount0Out'].astype(float)\n",
    "df_swap_uniq['amount1In'] = df_swap_uniq['amount1In'].astype(float)\n",
    "df_swap_uniq['amount1Out'] = df_swap_uniq['amount1Out'].astype(float)\n",
    "df_swap_uniq['amountUSD'] = df_swap_uniq['amountUSD'].astype(float)"
   ]
  },
  {
   "cell_type": "code",
   "execution_count": null,
   "metadata": {},
   "outputs": [],
   "source": [
    "df_swap_uniq['time'] = df_swap_uniq['timestamp'].apply(lambda x: datetime.utcfromtimestamp(int(x)))\n",
    "df_swap_uniq = df_swap_uniq.sort_values(by=['time','logIndex']).reset_index(drop=True)"
   ]
  },
  {
   "cell_type": "code",
   "execution_count": null,
   "metadata": {},
   "outputs": [],
   "source": [
    "df_swap_uniq = df_swap_uniq[['timestamp', 'amount0In', 'amount0Out', 'amount1In', 'amount1Out', 'amountUSD', 'time','logIndex']]\n",
    "df_swap_uniq['token0'] = 'DAI'\n",
    "df_swap_uniq['token1'] = 'WETH'\n",
    "\n",
    "df_swap_uniq['amount0'] = df_swap_uniq['amount0In'] - df_swap_uniq['amount0Out']\n",
    "df_swap_uniq['amount1'] = df_swap_uniq['amount1In'] - df_swap_uniq['amount1Out']\n",
    "\n",
    "df_swap_uniq['amount0_pool_burn'] = 0\n",
    "df_swap_uniq['amount1_pool_burn'] = 0\n",
    "\n",
    "df_swap_uniq['amount0_pool_mint'] = 0\n",
    "df_swap_uniq['amount1_pool_mint'] = 0\n",
    "\n",
    "df_swap_uniq['liquidity_mint'] = 0\n",
    "df_swap_uniq['liquidity_burn'] = 0\n",
    "\n",
    "df_swap_uniq.head()"
   ]
  },
  {
   "cell_type": "code",
   "execution_count": null,
   "metadata": {},
   "outputs": [],
   "source": [
    "df_mint_uniq = df_mint.copy()\n",
    "\n",
    "df_mint_uniq = df_mint_uniq[['amount0', 'amount1', 'amountUSD','liquidity', 'timestamp', 'logIndex']]\n",
    "\n",
    "df_mint_uniq['amount0'] = df_mint_uniq['amount0'].astype(float)\n",
    "df_mint_uniq['amount1'] = df_mint_uniq['amount1'].astype(float)\n",
    "df_mint_uniq['amountUSD'] = df_mint_uniq['amountUSD'].astype(float)\n",
    "df_mint_uniq['liquidity'] = df_mint_uniq['liquidity'].astype(float)\n",
    "\n",
    "#df_mint_uniq = df_mint_uniq.groupby(['timestamp']).sum().reset_index()\n",
    "df_mint_uniq.sort_values(by=['timestamp','logIndex'],inplace=True)\n",
    "\n",
    "df_mint_uniq['time'] = df_mint_uniq['timestamp'].apply(lambda x: datetime.utcfromtimestamp(int(x)))\n",
    "\n",
    "df_mint_uniq['token0'] = 'DAI'\n",
    "df_mint_uniq['token1'] = 'WETH'\n",
    "\n",
    "df_mint_uniq['amount0In'] = 0\n",
    "df_mint_uniq['amount0Out'] = 0\n",
    "df_mint_uniq['amount1In'] = 0\n",
    "df_mint_uniq['amount1Out'] = 0\n",
    "\n",
    "df_mint_uniq['amount0_pool_burn'] = 0\n",
    "df_mint_uniq['amount1_pool_burn'] = 0\n",
    "\n",
    "df_mint_uniq['liquidity_mint'] = df_mint_uniq['liquidity']\n",
    "df_mint_uniq['liquidity_burn'] = 0\n",
    "\n",
    "df_mint_uniq['amount0_pool_mint'] = df_mint_uniq['amount0']\n",
    "df_mint_uniq['amount1_pool_mint'] = df_mint_uniq['amount1']\n",
    "\n",
    "df_mint_uniq = df_mint_uniq.loc[:,df_mint_uniq.columns != 'liquidity']"
   ]
  },
  {
   "cell_type": "code",
   "execution_count": null,
   "metadata": {},
   "outputs": [],
   "source": [
    "df_mint_uniq"
   ]
  },
  {
   "cell_type": "code",
   "execution_count": null,
   "metadata": {},
   "outputs": [],
   "source": [
    "df_burn_uniq = df_burn.copy()\n",
    "\n",
    "df_burn_uniq = df_burn_uniq[['amount0', 'amount1', 'amountUSD','liquidity', 'timestamp', 'logIndex']]\n",
    "\n",
    "df_burn_uniq['amount0'] = df_burn_uniq['amount0'].astype(float)\n",
    "df_burn_uniq['amount1'] = df_burn_uniq['amount1'].astype(float)\n",
    "df_burn_uniq['amountUSD'] = df_burn_uniq['amountUSD'].astype(float)\n",
    "df_burn_uniq['liquidity'] = df_burn_uniq['liquidity'].astype(float)\n",
    "\n",
    "#df_burn_uniq = df_burn_uniq.groupby(['timestamp']).sum().reset_index()\n",
    "df_burn_uniq.sort_values(by=['timestamp','logIndex'],inplace=True)\n",
    "\n",
    "df_burn_uniq['time'] = df_burn_uniq['timestamp'].apply(lambda x: datetime.utcfromtimestamp(int(x)))\n",
    "\n",
    "df_burn_uniq['token0'] = 'DAI'\n",
    "df_burn_uniq['token1'] = 'WETH'\n",
    "\n",
    "df_burn_uniq['amount0In'] = 0\n",
    "df_burn_uniq['amount0Out'] = 0\n",
    "df_burn_uniq['amount1In'] = 0\n",
    "df_burn_uniq['amount1Out'] = 0\n",
    "\n",
    "df_burn_uniq['amount0_pool_mint'] = 0\n",
    "df_burn_uniq['amount1_pool_mint'] = 0\n",
    "\n",
    "df_burn_uniq['amount0_pool_burn'] = -df_burn_uniq['amount0']\n",
    "df_burn_uniq['amount1_pool_burn'] = -df_burn_uniq['amount1']\n",
    "\n",
    "df_burn_uniq['liquidity_mint'] = 0\n",
    "df_burn_uniq['liquidity_burn'] = df_burn_uniq['liquidity']\n",
    "\n",
    "df_burn_uniq['amount0'] = -df_burn_uniq['amount0']\n",
    "df_burn_uniq['amount1'] = -df_burn_uniq['amount1']\n",
    "\n",
    "df_burn_uniq = df_burn_uniq.loc[:,df_burn_uniq.columns != 'liquidity']"
   ]
  },
  {
   "cell_type": "code",
   "execution_count": null,
   "metadata": {},
   "outputs": [],
   "source": [
    "# SWAP - Trades\n",
    "\n",
    "df_swap_uniq_cad = df_swap_uniq.copy()\n",
    "df_swap_uniq_cad = df_swap_uniq_cad.rename(columns={'time':'block_timestamp', 'amount0':'token_delta','amount1':'eth_delta'})\n",
    "df_swap_uniq_cad['event'] = df_swap_uniq_cad['token_delta'].apply(lambda x: 'TokenPurchase' if x < 0 else 'EthPurchase')\n",
    "df_swap_uniq_cad['contract_event'] = df_swap_uniq_cad['token_delta'].apply(lambda x: 'DAITokenPurchase' if x < 0 else 'DAIEthPurchase')\n",
    "df_swap_uniq_cad['uni_delta'] = 0.\n",
    "df_swap_uniq_cad['eth_balance'] = df_swap_uniq_cad['eth_delta']\n",
    "df_swap_uniq_cad['token_balance'] = df_swap_uniq_cad['token_delta']\n",
    "df_swap_uniq_cad['UNI_supply'] = 0.\n",
    "\n",
    "df_swap_uniq_cad = df_swap_uniq_cad[['logIndex','block_timestamp','event', 'contract_event', 'eth_delta', 'token_delta',\n",
    "                                     'uni_delta', 'eth_balance', 'token_balance', 'UNI_supply']]"
   ]
  },
  {
   "cell_type": "code",
   "execution_count": null,
   "metadata": {},
   "outputs": [],
   "source": [
    "# MINT liquidity\n",
    "\n",
    "df_mint_uniq_cad = df_mint_uniq.copy()\n",
    "df_mint_uniq_cad = df_mint_uniq_cad.rename(columns={'time':'block_timestamp', 'amount0':'token_delta','amount1':'eth_delta'})\n",
    "df_mint_uniq_cad['event'] = 'AddLiquidity'\n",
    "df_mint_uniq_cad['contract_event'] = 'DAIAddLiquidity'\n",
    "df_mint_uniq_cad['uni_delta'] = 0.\n",
    "df_mint_uniq_cad['eth_balance'] = df_mint_uniq_cad['eth_delta']\n",
    "df_mint_uniq_cad['token_balance'] = df_mint_uniq_cad['token_delta']\n",
    "df_mint_uniq_cad['UNI_supply'] = 0.\n",
    "\n",
    "df_mint_uniq_cad = df_mint_uniq_cad[['logIndex','block_timestamp','event', 'contract_event', 'eth_delta', 'token_delta',\n",
    "                                     'uni_delta', 'eth_balance', 'token_balance', 'UNI_supply']]\n",
    "\n",
    "\n",
    "# MINT LP transfer\n",
    "\n",
    "df_mint_uniq_cad_2 = df_mint_uniq.copy()\n",
    "df_mint_uniq_cad_2 = df_mint_uniq_cad_2.rename(columns={'time':'block_timestamp', 'liquidity_mint':'uni_delta'})\n",
    "df_mint_uniq_cad_2['event'] = 'Transfer'\n",
    "df_mint_uniq_cad_2['contract_event'] = 'DAITransfer'\n",
    "df_mint_uniq_cad_2['eth_delta'] = 0.\n",
    "df_mint_uniq_cad_2['token_delta'] = 0.\n",
    "df_mint_uniq_cad_2['eth_balance'] = 0.\n",
    "df_mint_uniq_cad_2['token_balance'] = 0.\n",
    "df_mint_uniq_cad_2['UNI_supply'] = df_mint_uniq_cad_2['uni_delta']\n",
    "\n",
    "df_mint_uniq_cad_2 = df_mint_uniq_cad_2[['logIndex','block_timestamp','event', 'contract_event', 'eth_delta', 'token_delta',\n",
    "                                     'uni_delta', 'eth_balance', 'token_balance', 'UNI_supply']]\n",
    "\n",
    "\n",
    "df_mint_uniq_cad = df_mint_uniq_cad.append(df_mint_uniq_cad_2)"
   ]
  },
  {
   "cell_type": "code",
   "execution_count": null,
   "metadata": {},
   "outputs": [],
   "source": [
    "# BURN liquidity\n",
    "\n",
    "df_burn_uniq_cad = df_burn_uniq.copy()\n",
    "df_burn_uniq_cad = df_burn_uniq_cad.rename(columns={'time':'block_timestamp', 'amount0':'token_delta','amount1':'eth_delta'})\n",
    "df_burn_uniq_cad['event'] = 'RemoveLiquidity'\n",
    "df_burn_uniq_cad['contract_event'] = 'DAIRemoveLiquidity'\n",
    "df_burn_uniq_cad['uni_delta'] = 0.\n",
    "df_burn_uniq_cad['eth_balance'] = df_burn_uniq_cad['eth_delta']\n",
    "df_burn_uniq_cad['token_balance'] = df_burn_uniq_cad['token_delta']\n",
    "df_burn_uniq_cad['UNI_supply'] = 0.\n",
    "\n",
    "df_burn_uniq_cad = df_burn_uniq_cad[['logIndex','block_timestamp','event', 'contract_event', 'eth_delta', 'token_delta',\n",
    "                                     'uni_delta', 'eth_balance', 'token_balance', 'UNI_supply']]\n",
    "\n",
    "\n",
    "# BURN LP transfer\n",
    "\n",
    "df_burn_uniq_cad_2 = df_burn_uniq.copy()\n",
    "df_burn_uniq_cad_2 = df_burn_uniq_cad_2.rename(columns={'time':'block_timestamp', 'liquidity_burn':'uni_delta'})\n",
    "df_burn_uniq_cad_2['event'] = 'Transfer'\n",
    "df_burn_uniq_cad_2['contract_event'] = 'DAITransfer'\n",
    "df_burn_uniq_cad_2['eth_delta'] = 0.\n",
    "df_burn_uniq_cad_2['token_delta'] = 0.\n",
    "df_burn_uniq_cad_2['eth_balance'] = 0.\n",
    "df_burn_uniq_cad_2['token_balance'] = 0.\n",
    "df_burn_uniq_cad_2['uni_delta'] = -df_burn_uniq_cad_2['uni_delta']\n",
    "df_burn_uniq_cad_2['UNI_supply'] = df_burn_uniq_cad_2['uni_delta']\n",
    "\n",
    "df_burn_uniq_cad_2 = df_burn_uniq_cad_2[['logIndex','block_timestamp','event', 'contract_event', 'eth_delta', 'token_delta',\n",
    "                                     'uni_delta', 'eth_balance', 'token_balance', 'UNI_supply']]\n",
    "\n",
    "\n",
    "df_burn_uniq_cad = df_burn_uniq_cad.append(df_burn_uniq_cad_2)\n"
   ]
  },
  {
   "cell_type": "code",
   "execution_count": null,
   "metadata": {},
   "outputs": [],
   "source": [
    "df_mint_uniq.head()"
   ]
  },
  {
   "cell_type": "code",
   "execution_count": null,
   "metadata": {},
   "outputs": [],
   "source": [
    "## JOIN ETH_DAI database\n",
    "\n",
    "df_ETHDAI_cad = df_swap_uniq_cad.append(df_mint_uniq_cad)\n",
    "df_ETHDAI_cad = df_ETHDAI_cad.append(df_burn_uniq_cad)\n",
    "\n",
    "df_ETHDAI_cad.sort_values(by=['block_timestamp','logIndex'],ascending=True,inplace=True)\n",
    "df_ETHDAI_cad.reset_index(drop=True,inplace=True)"
   ]
  },
  {
   "cell_type": "code",
   "execution_count": null,
   "metadata": {},
   "outputs": [],
   "source": [
    "def func_int(x):\n",
    "\n",
    "    integ = x * 1e18\n",
    "    \n",
    "    return int(integ)"
   ]
  },
  {
   "cell_type": "code",
   "execution_count": null,
   "metadata": {},
   "outputs": [],
   "source": [
    "df_ETHDAI_cad['eth_delta'] = df_ETHDAI_cad['eth_delta'].apply(lambda x: func_int(x))\n",
    "df_ETHDAI_cad['token_delta'] = df_ETHDAI_cad['token_delta'].apply(lambda x: func_int(x))\n",
    "df_ETHDAI_cad['uni_delta'] = df_ETHDAI_cad['uni_delta'].apply(lambda x: func_int(x))\n",
    "df_ETHDAI_cad['eth_balance'] = df_ETHDAI_cad['eth_balance'].apply(lambda x: func_int(x))\n",
    "df_ETHDAI_cad['token_balance'] = df_ETHDAI_cad['token_balance'].apply(lambda x: func_int(x))\n",
    "df_ETHDAI_cad['UNI_supply'] = df_ETHDAI_cad['UNI_supply'].apply(lambda x: func_int(x))"
   ]
  },
  {
   "cell_type": "code",
   "execution_count": null,
   "metadata": {},
   "outputs": [],
   "source": [
    "df_ETHDAI_cad['eth_balance'] = df_ETHDAI_cad['eth_balance'].cumsum()\n",
    "df_ETHDAI_cad['token_balance'] = df_ETHDAI_cad['token_balance'].cumsum()\n",
    "df_ETHDAI_cad['UNI_supply'] = df_ETHDAI_cad['UNI_supply'].cumsum()"
   ]
  },
  {
   "cell_type": "code",
   "execution_count": null,
   "metadata": {},
   "outputs": [],
   "source": [
    "df_ETHDAI_cad.sort_values(by=['block_timestamp','logIndex'],ascending=True,inplace=True)"
   ]
  },
  {
   "cell_type": "code",
   "execution_count": null,
   "metadata": {},
   "outputs": [],
   "source": [
    "df_ETHDAI_cad.to_csv('database_Uniswap_cadCAD.csv')\n",
    "df_ETHDAI_cad.to_pickle('model/parts/uniswap_events.pickle')"
   ]
  }
 ],
 "metadata": {
  "kernelspec": {
   "display_name": "Python 3",
   "language": "python",
   "name": "python3"
  },
  "language_info": {
   "codemirror_mode": {
    "name": "ipython",
    "version": 3
   },
   "file_extension": ".py",
   "mimetype": "text/x-python",
   "name": "python",
   "nbconvert_exporter": "python",
   "pygments_lexer": "ipython3",
   "version": "3.8.5"
  }
 },
 "nbformat": 4,
 "nbformat_minor": 4
}
